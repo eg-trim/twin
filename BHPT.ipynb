{
 "cells": [
  {
   "cell_type": "code",
   "execution_count": null,
   "metadata": {},
   "outputs": [],
   "source": [
    "PATH_TO_BHPTNRSur = \"/Users/emanuel/ANIE/BHPTNRSurrogate\"\n",
    "import numpy as np\n",
    "import matplotlib.pyplot as plt\n",
    "import sys\n",
    "# add the path to the script directory\n",
    "sys.path.append(PATH_TO_BHPTNRSur)\n",
    "from surrogates import BHPTNRSur1dq1e4 as bhptsur"
   ]
  },
  {
   "cell_type": "code",
   "execution_count": null,
   "metadata": {},
   "outputs": [],
   "source": []
  }
 ],
 "metadata": {
  "language_info": {
   "name": "python"
  }
 },
 "nbformat": 4,
 "nbformat_minor": 2
}
