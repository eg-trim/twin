{
 "cells": [
  {
   "cell_type": "code",
   "execution_count": 15,
   "metadata": {},
   "outputs": [],
   "source": [
    "PATH_TO_BHPTNRSur = \"/home/ubuntu/EG-UT/BHPTNRSurrogate\"\n",
    "import numpy as np\n",
    "import matplotlib.pyplot as plt\n",
    "import sys\n",
    "# add the path to the script directory\n",
    "sys.path.append(PATH_TO_BHPTNRSur)\n",
    "from surrogates import BHPTNRSur1dq1e4 as bhptsur"
   ]
  },
  {
   "cell_type": "code",
   "execution_count": 18,
   "metadata": {},
   "outputs": [
    {
     "name": "stdout",
     "output_type": "stream",
     "text": [
      "(8.559606914557994e-05+2.4524925240570052e-14j)\n"
     ]
    },
    {
     "data": {
      "image/png": "[encoded data removed]",
      "text/plain": [
       "<Figure size 1440x288 with 1 Axes>"
      ]
     },
     "metadata": {},
     "output_type": "display_data"
    }
   ],
   "source": [
    "tsur, hsur = bhptsur.generate_surrogate(q=10000)\n",
    "print(hsur[(2,2)][0])\n",
    "\n",
    "#print(hsur.keys())\n",
    "\n",
    "plt.figure(figsize=(20,4))\n",
    "plt.plot(tsur, np.real(hsur[(2,2)]), '-', label='22')\n",
    "plt.plot(tsur, np.real(hsur[(3,3)]), '-', label='33')\n",
    "plt.xlabel('time [seconds]', fontsize=15)\n",
    "plt.ylabel('rh/M', fontsize=15)\n",
    "plt.xticks(fontsize=13)\n",
    "plt.yticks(fontsize=13)\n",
    "plt.legend(fontsize=12)\n",
    "plt.show()"
   ]
  },
  {
   "cell_type": "code",
   "execution_count": 3,
   "metadata": {},
   "outputs": [
    {
     "name": "stdout",
     "output_type": "stream",
     "text": [
      "cannot import LAL\n",
      "**** Surrogate loaded: BHPTNRSur1dq1e4 ****\n",
      "First 5 q values: [  11.63087724 2292.97154986   56.57225928    2.65892423   67.08344912]\n",
      "Generating waveforms: 100%|█████████████████| 5000/5000 [06:24<00:00, 13.02it/s]\n",
      "Saved dataset to bhpt_dataset.pt with shapes: waveforms torch.Size([5000, 153075, 1, 1, 2]), params torch.Size([5000, 1])\n"
     ]
    }
   ],
   "source": [
    "!python3 generate_bhpt_dataset.py --n-samples 5000  --q-min 2.5 --q-max 10000"
   ]
  },
  {
   "cell_type": "code",
   "execution_count": 8,
   "metadata": {},
   "outputs": [],
   "source": [
    "\"python3 generate_bhpt_dataset.py --n-samples 256  --q-min 2.5 --q-max 10.0\"\n",
    "\n",
    "import torch\n",
    "import torch.nn as nn\n",
    "import architectures as arch\n",
    "from functools import partial\n",
    "import argparse\n",
    "from pathlib import Path\n",
    "from torchvision.ops import MLP\n",
    "from data import setup_waveform_dataloaders, WaveformDataset, load_bhpt_tensors\n",
    "from architectures import SingleConvNeuralNet, GalerkinTransformer\n",
    "from bhpt_running import train_one_epoch, evaluate_refinement\n",
    "\n",
    "parser = argparse.ArgumentParser(description=\"BHPT training script (core logic excerpt).\")\n",
    "parser.add_argument(\"--data\", type=Path, default=Path(\"bhpt_dataset.pt\"), help=\"Path to the .pt dataset produced by generate_bhpt_dataset.py.\")\n",
    "parser.add_argument(\"--epochs\", type=int, default=1000)\n",
    "parser.add_argument(\"--batch-size\", type=int, default=8)\n",
    "parser.add_argument(\"--lr\", type=float, default=1e-4)\n",
    "parser.add_argument(\"--weight-decay\", type=float, default=1e-4, help=\"Weight decay (L2 penalty) for Adam optimizer.\")\n",
    "parser.add_argument(\"--n-timesteps\", type=int, default=None, help=\"Number of temporal frames to sample from the raw data (consistent with notebook).\")\n",
    "\n",
    "parser.add_argument(\"--share\", action=\"store_true\", help=\"Share weights between modules.\")\n",
    "parser.add_argument(\"--no-share\", dest=\"share\", action=\"store_false\", help=\"Don't share weights between modules.\")\n",
    "parser.set_defaults(share=True)\n",
    "\n",
    "parser.add_argument(\"--refinement\", action=\"store_true\", help=\"Use refinement.\")\n",
    "parser.add_argument(\"--no-refinement\", dest=\"refinement\", action=\"store_false\", help=\"Don't use refinement.\")\n",
    "parser.set_defaults(refinement=True)\n",
    "\n",
    "parser.add_argument(\"--picard\", action=\"store_true\", help=\"Use Picard iterations.\")\n",
    "parser.add_argument(\"--no-picard\", dest=\"picard\", action=\"store_false\", help=\"Don't use Picard iterations.\")\n",
    "parser.set_defaults(picard=True)\n",
    "\n",
    "parser.add_argument(\"--d_model\", type=int, default=63)\n",
    "parser.add_argument(\"--nhead\", type=int, default=4)\n",
    "parser.add_argument(\"--dim_feedforward\", type=int, default=64)\n",
    "parser.add_argument(\"--dropout\", type=float, default=0.1)\n",
    "parser.add_argument(\"--n_layers\", type=int, default=4)\n",
    "parser.add_argument(\"--n_modules\", type=int, default=1)\n",
    "parser.add_argument(\"--q\", type=int, default=1)\n",
    "parser.add_argument(\"--r\", type=float, default=0.5)\n",
    "\n",
    "args = parser.parse_args(\"\")"
   ]
  },
  {
   "cell_type": "code",
   "execution_count": 9,
   "metadata": {},
   "outputs": [
    {
     "name": "stdout",
     "output_type": "stream",
     "text": [
      "Using device: cuda\n",
      "Loading data from bhpt_dataset.pt...\n",
      "  Loaded 'waveforms' with shape: torch.Size([5000, 153075, 1, 1, 2])\n",
      "  Loaded 'params' with shape: torch.Size([5000, 1])\n",
      "Final tensor shapes: waveforms=torch.Size([5000, 153075, 1, 1, 2]), params=torch.Size([5000, 1])\n",
      "DataLoaders are ready.\n"
     ]
    }
   ],
   "source": [
    "device = torch.device(\"cuda\" if torch.cuda.is_available() else \"cpu\")\n",
    "print(f\"Using device: {device}\")\n",
    "\n",
    "# 1. Load data from the .pt file into two tensors\n",
    "waveforms_tensor, params_tensor = load_bhpt_tensors(\n",
    "    args.data, n_timesteps=args.n_timesteps\n",
    ")\n",
    "\n",
    "# 2. Create DataLoaders from the tensors\n",
    "train_loader, val_loader = setup_waveform_dataloaders(\n",
    "    waveforms=waveforms_tensor.to(device),\n",
    "    params=params_tensor.to(device),\n",
    "    batch_size=args.batch_size\n",
    ")\n",
    "\n",
    "# 3. Define dimensions for the model\n",
    "P = 3  # Positional encoding dimensions (t, y, x)\n",
    "N, T, H, W, Q = waveforms_tensor.shape\n",
    "_, n_params = params_tensor.shape\n",
    "\n",
    "print(\"DataLoaders are ready.\")\n",
    "\n"
   ]
  },
  {
   "cell_type": "code",
   "execution_count": 10,
   "metadata": {},
   "outputs": [
    {
     "name": "stdout",
     "output_type": "stream",
     "text": [
      "Model, Encoder, and Decoder are on device: cuda:0\n",
      "Transformer d_model: 64 (divisible by nhead=4)\n"
     ]
    }
   ],
   "source": [
    "# Cell 3: Model Definition\n",
    "# For waveform data (H=1, W=1), the \"convolution\" is just a linear projection.\n",
    "# Kernel size K and stride S are (1,1).\n",
    "\n",
    "encoder_out_dim = args.d_model - P\n",
    "\n",
    "encoder = SingleConvNeuralNet(dim=Q,\n",
    "    hidden_dim=args.d_model - P,\n",
    "    out_dim=args.d_model - P,\n",
    "    hidden_ff=128,\n",
    "    K=[1, 1],\n",
    "    S=[1, 1])\n",
    "\n",
    "encoder = encoder.to(device)\n",
    "\n",
    "# Dummy forward pass to get the shape for the decoder\n",
    "with torch.no_grad():\n",
    "    sample_waveforms = waveforms_tensor[0, None, ...].to(device)\n",
    "    _, _, H_prime, W_prime, _ = encoder.forward(sample_waveforms).shape\n",
    "# The decoder's input channels depend on the encoder's output shape\n",
    "decoder_in_channels = H_prime * W_prime * encoder_out_dim\n",
    "\n",
    "# The total dimension fed to the transformer will be d_model + n_params\n",
    "d_model_conditioned = args.d_model + n_params\n",
    "\n",
    "if args.refinement:\n",
    "    make_module = partial(arch.GalerkinTransformer,\n",
    "                          d_model=d_model_conditioned,\n",
    "                          nhead=args.nhead,\n",
    "                          dim_feedforward=args.dim_feedforward,\n",
    "                          dropout=args.dropout,\n",
    "                          n_layers=args.n_layers)\n",
    "    process_trajectory = arch.broadcast_initial_conditions\n",
    "else:\n",
    "    # Autoregressive training is not implemented for the BHPT case yet\n",
    "    raise NotImplementedError(\"Only refinement mode is set up for BHPT training.\")\n",
    "\n",
    "if args.share:\n",
    "    modules = arch.make_weight_shared_modules(make_module, n_modules=args.n_modules)\n",
    "else:\n",
    "    modules = arch.make_weight_unshared_modules(make_module, n_modules=args.n_modules)\n",
    "\n",
    "if args.picard:\n",
    "    model = arch.PicardIterations(modules, q=args.q, r=args.r)\n",
    "else:\n",
    "    model = arch.ArbitraryIterations(modules)\n",
    "model = model.to(device)\n",
    "\n",
    "\n",
    "decoder = MLP(\n",
    "    in_channels=decoder_in_channels,\n",
    "    hidden_channels=[64, 256, H * W * Q], # Final output must match original H, W, Q\n",
    "    activation_layer=nn.ELU,\n",
    ")\n",
    "\n",
    "decoder = decoder.to(device)\n",
    "\n",
    "print(f\"Model, Encoder, and Decoder are on device: {next(model.parameters()).device}\")\n",
    "print(f\"Transformer d_model: {d_model_conditioned} (divisible by nhead={args.nhead})\")"
   ]
  },
  {
   "cell_type": "code",
   "execution_count": 21,
   "metadata": {},
   "outputs": [
    {
     "name": "stdout",
     "output_type": "stream",
     "text": [
      "Analysis of Peak Waveform Amplitudes:\n",
      "  Smallest peak amplitude in the dataset: 3.24e-04\n",
      "  Largest peak amplitude in the dataset:  1.02e+00\n",
      "  Mean peak amplitude in the dataset:     1.32e-01\n"
     ]
    }
   ],
   "source": [
    "# The last dimension of the tensor holds the [real, imaginary] parts.\n",
    "# Let's calculate the complex amplitude (magnitude) for every point.\n",
    "amplitudes = torch.sqrt(waveforms_tensor[..., 0]**2 + waveforms_tensor[..., 1]**2)\n",
    "\n",
    "# Now, for each individual waveform in the dataset, find its maximum amplitude over time.\n",
    "# The time dimension is the second one (dim=1).\n",
    "peak_amplitudes_per_waveform = torch.max(amplitudes, dim=1).values\n",
    "\n",
    "# Finally, let's find the min and max of those peak amplitudes.\n",
    "# This tells us the range of the strongest signals across the whole dataset.\n",
    "smallest_peak = peak_amplitudes_per_waveform.min().item()\n",
    "largest_peak = peak_amplitudes_per_waveform.max().item()\n",
    "mean_peak = peak_amplitudes_per_waveform.mean().item()\n",
    "\n",
    "print(\"Analysis of Peak Waveform Amplitudes:\")\n",
    "print(f\"  Smallest peak amplitude in the dataset: {smallest_peak:.2e}\")\n",
    "print(f\"  Largest peak amplitude in the dataset:  {largest_peak:.2e}\")\n",
    "print(f\"  Mean peak amplitude in the dataset:     {mean_peak:.2e}\")"
   ]
  },
  {
   "cell_type": "code",
   "execution_count": 11,
   "metadata": {},
   "outputs": [
    {
     "name": "stdout",
     "output_type": "stream",
     "text": [
      "Starting training...\n",
      "Epoch   1 | train loss: 0.286000 | val loss: 0.000664\n",
      "Epoch   2 | train loss: 0.012750 | val loss: 0.001096\n",
      "Epoch   3 | train loss: 0.016515 | val loss: 0.001012\n",
      "Epoch   4 | train loss: 0.566616 | val loss: 0.000703\n",
      "Epoch   5 | train loss: 0.000641 | val loss: 0.000631\n",
      "Epoch   6 | train loss: 0.000618 | val loss: 0.000622\n"
     ]
    },
    {
     "ename": "KeyboardInterrupt",
     "evalue": "",
     "output_type": "error",
     "traceback": [
      "\u001b[0;31m---------------------------------------------------------------------------\u001b[0m",
      "\u001b[0;31mKeyboardInterrupt\u001b[0m                         Traceback (most recent call last)",
      "\u001b[0;32m/tmp/ipykernel_9473/1194802781.py\u001b[0m in \u001b[0;36m<module>\u001b[0;34m\u001b[0m\n\u001b[1;32m      8\u001b[0m \u001b[0;32mfor\u001b[0m \u001b[0mepoch\u001b[0m \u001b[0;32min\u001b[0m \u001b[0mrange\u001b[0m\u001b[0;34m(\u001b[0m\u001b[0;36m1\u001b[0m\u001b[0;34m,\u001b[0m \u001b[0margs\u001b[0m\u001b[0;34m.\u001b[0m\u001b[0mepochs\u001b[0m \u001b[0;34m+\u001b[0m \u001b[0;36m1\u001b[0m\u001b[0;34m)\u001b[0m\u001b[0;34m:\u001b[0m\u001b[0;34m\u001b[0m\u001b[0;34m\u001b[0m\u001b[0m\n\u001b[1;32m      9\u001b[0m     \u001b[0;31m# Pass nhead to the training and evaluation functions\u001b[0m\u001b[0;34m\u001b[0m\u001b[0;34m\u001b[0m\u001b[0m\n\u001b[0;32m---> 10\u001b[0;31m     train_loss = train_one_epoch(model,\n\u001b[0m\u001b[1;32m     11\u001b[0m                                  \u001b[0mencoder\u001b[0m\u001b[0;34m,\u001b[0m\u001b[0;34m\u001b[0m\u001b[0;34m\u001b[0m\u001b[0m\n\u001b[1;32m     12\u001b[0m                                  \u001b[0mdecoder\u001b[0m\u001b[0;34m,\u001b[0m\u001b[0;34m\u001b[0m\u001b[0;34m\u001b[0m\u001b[0m\n",
      "\u001b[0;32m/lambda/nfs/EG-UT/twin/bhpt_running.py\u001b[0m in \u001b[0;36mtrain_one_epoch\u001b[0;34m(model, encoder, decoder, process_trajectory, loader, optim)\u001b[0m\n\u001b[1;32m    132\u001b[0m         \u001b[0mloss\u001b[0m \u001b[0;34m=\u001b[0m \u001b[0mF\u001b[0m\u001b[0;34m.\u001b[0m\u001b[0mmse_loss\u001b[0m\u001b[0;34m(\u001b[0m\u001b[0mout\u001b[0m\u001b[0;34m,\u001b[0m \u001b[0mwaveforms\u001b[0m\u001b[0;34m)\u001b[0m\u001b[0;34m\u001b[0m\u001b[0;34m\u001b[0m\u001b[0m\n\u001b[1;32m    133\u001b[0m         \u001b[0mloss\u001b[0m\u001b[0;34m.\u001b[0m\u001b[0mbackward\u001b[0m\u001b[0;34m(\u001b[0m\u001b[0;34m)\u001b[0m\u001b[0;34m;\u001b[0m \u001b[0moptim\u001b[0m\u001b[0;34m.\u001b[0m\u001b[0mstep\u001b[0m\u001b[0;34m(\u001b[0m\u001b[0;34m)\u001b[0m\u001b[0;34m\u001b[0m\u001b[0;34m\u001b[0m\u001b[0m\n\u001b[0;32m--> 134\u001b[0;31m         \u001b[0mrunning\u001b[0m \u001b[0;34m+=\u001b[0m \u001b[0mloss\u001b[0m\u001b[0;34m.\u001b[0m\u001b[0mitem\u001b[0m\u001b[0;34m(\u001b[0m\u001b[0;34m)\u001b[0m\u001b[0;34m\u001b[0m\u001b[0;34m\u001b[0m\u001b[0m\n\u001b[0m\u001b[1;32m    135\u001b[0m     \u001b[0;32mreturn\u001b[0m \u001b[0mrunning\u001b[0m \u001b[0;34m/\u001b[0m \u001b[0mlen\u001b[0m\u001b[0;34m(\u001b[0m\u001b[0mloader\u001b[0m\u001b[0;34m)\u001b[0m\u001b[0;34m\u001b[0m\u001b[0;34m\u001b[0m\u001b[0m\n\u001b[1;32m    136\u001b[0m \u001b[0;34m\u001b[0m\u001b[0m\n",
      "\u001b[0;31mKeyboardInterrupt\u001b[0m: "
     ]
    }
   ],
   "source": [
    "# The optimizer needs to know about all trainable parameters\n",
    "all_params = list(model.parameters()) + list(encoder.parameters()) + list(decoder.parameters())\n",
    "optim = torch.optim.Adam(all_params, lr=args.lr, weight_decay=args.weight_decay)\n",
    "\n",
    "scheduler = torch.optim.lr_scheduler.CosineAnnealingLR(optim, T_max=args.epochs)\n",
    "\n",
    "print(\"Starting training...\")\n",
    "for epoch in range(1, args.epochs + 1):\n",
    "    # Pass nhead to the training and evaluation functions\n",
    "    train_loss = train_one_epoch(model,\n",
    "                                 encoder,\n",
    "                                 decoder,\n",
    "                                 process_trajectory,\n",
    "                                 train_loader,\n",
    "                                 optim)\n",
    "                                 \n",
    "    val_loss = evaluate_refinement(model,\n",
    "                                   encoder,\n",
    "                                   decoder,\n",
    "                                   process_trajectory,\n",
    "                                   val_loader)\n",
    "    scheduler.step()\n",
    "    print(f\"Epoch {epoch:3d} | train loss: {train_loss:.6f} | val loss: {val_loss:.6f}\")\n",
    "\n",
    "torch.save({\"state_dict\": model.state_dict()}, Path(\"bhpt_weights.pt\"))\n",
    "print(\"\\nTraining complete. Saved model weights to bhpt_weights.pt\")"
   ]
  },
  {
   "cell_type": "code",
   "execution_count": null,
   "metadata": {},
   "outputs": [
    {
     "name": "stdout",
     "output_type": "stream",
     "text": [
      "Starting training...\n",
      "Epoch   1 | train loss: 0.286000 | val loss: 0.000664\n",
      "Epoch   2 | train loss: 0.012750 | val loss: 0.001096\n",
      "Epoch   3 | train loss: 0.016515 | val loss: 0.001012\n",
      "Epoch   4 | train loss: 0.566616 | val loss: 0.000703\n",
      "Epoch   5 | train loss: 0.000641 | val loss: 0.000631\n",
      "Epoch   6 | train loss: 0.000618 | val loss: 0.000622\n"
     ]
    },
    {
     "ename": "KeyboardInterrupt",
     "evalue": "",
     "output_type": "error",
     "traceback": [
      "\u001b[0;31m---------------------------------------------------------------------------\u001b[0m\n",
      "\u001b[0;31mKeyboardInterrupt\u001b[0m                         Traceback (most recent call last)\n",
      "\u001b[0;32m/tmp/ipykernel_9473/1194802781.py\u001b[0m in \u001b[0;36m<module>\u001b[0;34m\u001b[0m\n",
      "\u001b[1;32m      8\u001b[0m \u001b[0;32mfor\u001b[0m \u001b[0mepoch\u001b[0m \u001b[0;32min\u001b[0m \u001b[0mrange\u001b[0m\u001b[0;34m(\u001b[0m\u001b[0;36m1\u001b[0m\u001b[0;34m,\u001b[0m \u001b[0margs\u001b[0m\u001b[0;34m.\u001b[0m\u001b[0mepochs\u001b[0m \u001b[0;34m+\u001b[0m \u001b[0;36m1\u001b[0m\u001b[0;34m)\u001b[0m\u001b[0;34m:\u001b[0m\u001b[0;34m\u001b[0m\u001b[0;34m\u001b[0m\u001b[0m\n",
      "\u001b[1;32m      9\u001b[0m     \u001b[0;31m# Pass nhead to the training and evaluation functions\u001b[0m\u001b[0;34m\u001b[0m\u001b[0;34m\u001b[0m\u001b[0m\n",
      "\u001b[0;32m---> 10\u001b[0;31m     train_loss = train_one_epoch(model,\n",
      "\u001b[0m\u001b[1;32m     11\u001b[0m                                  \u001b[0mencoder\u001b[0m\u001b[0;34m,\u001b[0m\u001b[0;34m\u001b[0m\u001b[0;34m\u001b[0m\u001b[0m\n",
      "\u001b[1;32m     12\u001b[0m                                  \u001b[0mdecoder\u001b[0m\u001b[0;34m,\u001b[0m\u001b[0;34m\u001b[0m\u001b[0;34m\u001b[0m\u001b[0m\n",
      "\n",
      "\u001b[0;32m/lambda/nfs/EG-UT/twin/bhpt_running.py\u001b[0m in \u001b[0;36mtrain_one_epoch\u001b[0;34m(model, encoder, decoder, process_trajectory, loader, optim)\u001b[0m\n",
      "\u001b[1;32m    132\u001b[0m         \u001b[0mloss\u001b[0m \u001b[0;34m=\u001b[0m \u001b[0mF\u001b[0m\u001b[0;34m.\u001b[0m\u001b[0mmse_loss\u001b[0m\u001b[0;34m(\u001b[0m\u001b[0mout\u001b[0m\u001b[0;34m,\u001b[0m \u001b[0mwaveforms\u001b[0m\u001b[0;34m)\u001b[0m\u001b[0;34m\u001b[0m\u001b[0;34m\u001b[0m\u001b[0m\n",
      "\u001b[1;32m    133\u001b[0m         \u001b[0mloss\u001b[0m\u001b[0;34m.\u001b[0m\u001b[0mbackward\u001b[0m\u001b[0;34m(\u001b[0m\u001b[0;34m)\u001b[0m\u001b[0;34m;\u001b[0m \u001b[0moptim\u001b[0m\u001b[0;34m.\u001b[0m\u001b[0mstep\u001b[0m\u001b[0;34m(\u001b[0m\u001b[0;34m)\u001b[0m\u001b[0;34m\u001b[0m\u001b[0;34m\u001b[0m\u001b[0m\n",
      "\u001b[0;32m--> 134\u001b[0;31m         \u001b[0mrunning\u001b[0m \u001b[0;34m+=\u001b[0m \u001b[0mloss\u001b[0m\u001b[0;34m.\u001b[0m\u001b[0mitem\u001b[0m\u001b[0;34m(\u001b[0m\u001b[0;34m)\u001b[0m\u001b[0;34m\u001b[0m\u001b[0;34m\u001b[0m\u001b[0m\n",
      "\u001b[0m\u001b[1;32m    135\u001b[0m     \u001b[0;32mreturn\u001b[0m \u001b[0mrunning\u001b[0m \u001b[0;34m/\u001b[0m \u001b[0mlen\u001b[0m\u001b[0;34m(\u001b[0m\u001b[0mloader\u001b[0m\u001b[0;34m)\u001b[0m\u001b[0;34m\u001b[0m\u001b[0;34m\u001b[0m\u001b[0m\n",
      "\u001b[1;32m    136\u001b[0m \u001b[0;34m\u001b[0m\u001b[0m\n",
      "\n",
      "\u001b[0;31mKeyboardInterrupt\u001b[0m: "
     ]
    }
   ],
   "source": [
    "# The optimizer needs to know about all trainable parameters\n",
    "all_params = list(model.parameters()) + list(encoder.parameters()) + list(decoder.parameters())\n",
    "optim = torch.optim.Adam(all_params, lr=args.lr, weight_decay=args.weight_decay)\n",
    "\n",
    "scheduler = torch.optim.lr_scheduler.CosineAnnealingLR(optim, T_max=args.epochs)\n",
    "\n",
    "print(\"Starting training...\")\n",
    "for epoch in range(1, args.epochs + 1):\n",
    "    # Pass nhead to the training and evaluation functions\n",
    "    train_loss = train_one_epoch(model,\n",
    "                                 encoder,\n",
    "                                 decoder,\n",
    "                                 process_trajectory,\n",
    "                                 train_loader,\n",
    "                                 optim)\n",
    "                                 \n",
    "    val_loss = evaluate_refinement(model,\n",
    "                                   encoder,\n",
    "                                   decoder,\n",
    "                                   process_trajectory,\n",
    "                                   val_loader)\n",
    "    scheduler.step()\n",
    "    print(f\"Epoch {epoch:3d} | train loss: {train_loss:.6f} | val loss: {val_loss:.6f}\")\n",
    "\n",
    "torch.save({\"state_dict\": model.state_dict()}, Path(\"bhpt_weights.pt\"))\n",
    "print(\"\\nTraining complete. Saved model weights to bhpt_weights.pt\")"
   ]
  },
  {
   "cell_type": "code",
   "execution_count": null,
   "metadata": {},
   "outputs": [],
   "source": []
  }
 ],
 "metadata": {
  "kernelspec": {
   "display_name": "Python 3 (ipykernel)",
   "language": "python",
   "name": "python3"
  },
  "language_info": {
   "codemirror_mode": {
    "name": "ipython",
    "version": 3
   },
   "file_extension": ".py",
   "mimetype": "text/x-python",
   "name": "python",
   "nbconvert_exporter": "python",
   "pygments_lexer": "ipython3",
   "version": "3.10.12"
  }
 },
 "nbformat": 4,
 "nbformat_minor": 2
}
