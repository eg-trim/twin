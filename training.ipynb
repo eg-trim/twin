{
 "cells": [
  {
   "cell_type": "code",
   "execution_count": 1,
   "metadata": {},
   "outputs": [],
   "source": [
    "import torch\n",
    "import torch.nn as nn\n",
    "import architectures as arch\n",
    "from functools import partial\n",
    "import argparse\n",
    "from pathlib import Path\n",
    "from torchvision.ops import MLP\n",
    "from running import train_one_epoch, evaluate_refinement, evaluate_autoregressive\n",
    "from data import load_navier_stokes_tensor, setup_dataloaders\n",
    "from architectures import SingleConvNeuralNet\n",
    "\n",
    "\n",
    "parser = argparse.ArgumentParser(description=\"Navier–Stokes training script (core logic excerpt).\")\n",
    "parser.add_argument(\"--data\", type=Path, default=Path(\"../anie/ns_viscosity_data_large/ns_data_visc_8e-4.mat\"), help=\"Path to the .mat dataset produced by the FNO codebase.\")\n",
    "parser.add_argument(\"--epochs\", type=int, default=10)\n",
    "parser.add_argument(\"--batch-size\", type=int, default=8)\n",
    "parser.add_argument(\"--lr\", type=float, default=1e-3)\n",
    "parser.add_argument(\"--weight-decay\", type=float, default=1e-4, help=\"Weight decay (L2 penalty) for Adam optimizer.\")\n",
    "parser.add_argument(\"--n-timesteps\", type=int, default=11, help=\"Number of temporal frames to sample from the raw data (consistent with notebook).\")\n",
    "\n",
    "parser.add_argument(\"--share\", action=\"store_true\", help=\"Share weights between modules.\")\n",
    "parser.add_argument(\"--no-share\", dest=\"share\", action=\"store_false\", help=\"Don't share weights between modules.\")\n",
    "parser.set_defaults(share=True)\n",
    "\n",
    "parser.add_argument(\"--refinement\", action=\"store_true\", help=\"Use refinement.\")\n",
    "parser.add_argument(\"--no-refinement\", dest=\"refinement\", action=\"store_false\", help=\"Don't use refinement.\")\n",
    "parser.set_defaults(refinement=False)\n",
    "\n",
    "parser.add_argument(\"--picard\", action=\"store_true\", help=\"Use Picard iterations.\")\n",
    "parser.add_argument(\"--no-picard\", dest=\"picard\", action=\"store_false\", help=\"Don't use Picard iterations.\")\n",
    "parser.set_defaults(picard=True)\n",
    "\n",
    "parser.add_argument(\"--d_model\", type=int, default=64)\n",
    "parser.add_argument(\"--nhead\", type=int, default=4)\n",
    "parser.add_argument(\"--dim_feedforward\", type=int, default=64)\n",
    "parser.add_argument(\"--dropout\", type=float, default=0.1)\n",
    "parser.add_argument(\"--n_layers\", type=int, default=4)\n",
    "parser.add_argument(\"--n_modules\", type=int, default=1)\n",
    "parser.add_argument(\"--q\", type=int, default=1)\n",
    "parser.add_argument(\"--r\", type=float, default=0.5)\n",
    "\n",
    "args = parser.parse_args(\"\")"
   ]
  },
  {
   "cell_type": "code",
   "execution_count": null,
   "metadata": {},
   "outputs": [],
   "source": [
    "device = torch.device(\"cuda\" if torch.cuda.is_available() else \"cpu\")\n",
    "print(f\"Using device: {device}\")\n",
    "\n",
    "tensor = load_navier_stokes_tensor(args.data, n_timesteps=args.n_timesteps)\n",
    "tensor = tensor.to(device)\n",
    "train_loader, val_loader = setup_dataloaders(tensor, batch_size=args.batch_size)\n",
    "P = 3\n",
    "N, T, H, W, Q = tensor.shape"
   ]
  },
  {
   "cell_type": "code",
   "execution_count": 3,
   "metadata": {},
   "outputs": [],
   "source": [
    "encoder = SingleConvNeuralNet(dim=Q,\n",
    "                                hidden_dim=args.d_model-P,\n",
    "                                out_dim=args.d_model-P,\n",
    "                                hidden_ff=128,\n",
    "                                K=[4,4],\n",
    "                                S=[4,4])\n",
    "encoder = encoder.to(device)\n",
    "\n",
    "# Dummy forward pass to get shapes\n",
    "with torch.no_grad():\n",
    "    _, _, H_prime, W_prime, _ = encoder.forward(tensor[0, None, ...].to(device)).shape\n",
    "block_size = H_prime * W_prime\n",
    "\n",
    "if args.refinement:\n",
    "    make_module = partial(arch.AcausalTransformer,\n",
    "                    d_model=args.d_model,\n",
    "                    nhead=args.nhead,\n",
    "                    dim_feedforward=args.dim_feedforward,\n",
    "                    dropout=args.dropout,\n",
    "                    n_layers=args.n_layers)\n",
    "    process_trajectory = arch.broadcast_initial_conditions\n",
    "else:\n",
    "    make_module = partial(arch.BlockCausalTransformer,\n",
    "                          block_size=block_size,\n",
    "                          d_model=args.d_model,\n",
    "                          nhead=args.nhead,\n",
    "                          dim_feedforward=args.dim_feedforward,\n",
    "                          dropout=args.dropout,\n",
    "                          n_layers=args.n_layers)\n",
    "    process_trajectory = arch.identity\n",
    "if args.share:\n",
    "    modules = arch.make_weight_shared_modules(make_module, n_modules=args.n_modules)\n",
    "else:\n",
    "    modules = arch.make_weight_unshared_modules(make_module, n_modules=args.n_modules)\n",
    "if args.picard:\n",
    "    model = arch.PicardIterations(modules, q=args.q, r=args.r)\n",
    "else:\n",
    "    model = arch.ArbitraryIterations(modules)\n",
    "model = model.to(device)\n",
    "\n",
    "decoder = MLP(\n",
    "    in_channels=H_prime*W_prime*(args.d_model-P),\n",
    "    hidden_channels=[64, 256, H*W],\n",
    "    activation_layer=nn.ELU,\n",
    ")\n",
    "decoder = decoder.to(device)"
   ]
  },
  {
   "cell_type": "code",
   "execution_count": 4,
   "metadata": {},
   "outputs": [
    {
     "ename": "KeyboardInterrupt",
     "evalue": "",
     "output_type": "error",
     "traceback": [
      "\u001b[31m---------------------------------------------------------------------------\u001b[39m",
      "\u001b[31mKeyboardInterrupt\u001b[39m                         Traceback (most recent call last)",
      "\u001b[36mCell\u001b[39m\u001b[36m \u001b[39m\u001b[32mIn[4]\u001b[39m\u001b[32m, line 7\u001b[39m\n\u001b[32m      4\u001b[39m scheduler = torch.optim.lr_scheduler.CosineAnnealingLR(optim, T_max=args.epochs)\n\u001b[32m      6\u001b[39m \u001b[38;5;28;01mfor\u001b[39;00m epoch \u001b[38;5;129;01min\u001b[39;00m \u001b[38;5;28mrange\u001b[39m(\u001b[32m1\u001b[39m, args.epochs + \u001b[32m1\u001b[39m):\n\u001b[32m----> \u001b[39m\u001b[32m7\u001b[39m     train_loss = train_one_epoch(model,\n\u001b[32m      8\u001b[39m                                  encoder,\n\u001b[32m      9\u001b[39m                                  decoder,\n\u001b[32m     10\u001b[39m                                  process_trajectory,\n\u001b[32m     11\u001b[39m                                  train_loader,\n\u001b[32m     12\u001b[39m                                  optim)\n\u001b[32m     13\u001b[39m     \u001b[38;5;28;01mif\u001b[39;00m args.refinement:\n\u001b[32m     14\u001b[39m         val_loss = evaluate_refinement(model,\n\u001b[32m     15\u001b[39m                                        encoder,\n\u001b[32m     16\u001b[39m                                        decoder,\n\u001b[32m     17\u001b[39m                                        process_trajectory,\n\u001b[32m     18\u001b[39m                                        val_loader)\n",
      "\u001b[36mFile \u001b[39m\u001b[32m~/ANIE/twin/running.py:100\u001b[39m, in \u001b[36mtrain_one_epoch\u001b[39m\u001b[34m(model, encoder, decoder, process_trajectory, loader, optim)\u001b[39m\n\u001b[32m     98\u001b[39m     loss.backward()\n\u001b[32m     99\u001b[39m     optim.step()\n\u001b[32m--> \u001b[39m\u001b[32m100\u001b[39m     running_loss += loss.item()\n\u001b[32m    101\u001b[39m \u001b[38;5;28;01mreturn\u001b[39;00m running_loss / \u001b[38;5;28mlen\u001b[39m(loader)\n",
      "\u001b[31mKeyboardInterrupt\u001b[39m: "
     ]
    }
   ],
   "source": [
    "optim = torch.optim.Adam(\n",
    "    list(model.parameters()) + list(encoder.parameters()) + list(decoder.parameters()), lr=args.lr, weight_decay=args.weight_decay\n",
    ")\n",
    "scheduler = torch.optim.lr_scheduler.CosineAnnealingLR(optim, T_max=args.epochs)\n",
    "\n",
    "for epoch in range(1, args.epochs + 1):\n",
    "    train_loss = train_one_epoch(model,\n",
    "                                 encoder,\n",
    "                                 decoder,\n",
    "                                 process_trajectory,\n",
    "                                 train_loader,\n",
    "                                 optim)\n",
    "    if args.refinement:\n",
    "        val_loss = evaluate_refinement(model,\n",
    "                                       encoder,\n",
    "                                       decoder,\n",
    "                                       process_trajectory,\n",
    "                                       val_loader)\n",
    "    else:\n",
    "        val_loss = evaluate_autoregressive(model,\n",
    "                                           encoder,\n",
    "                                           decoder,\n",
    "                                           process_trajectory,\n",
    "                                           val_loader)\n",
    "    scheduler.step()\n",
    "    print(f\"Epoch {epoch:3d} | train loss: {train_loss:.6f} | val loss: {val_loss:.6f}\")\n",
    "\n",
    "torch.save({\"state_dict\": model.state_dict()}, Path(\"tmpweights.pt\"))"
   ]
  },
  {
   "cell_type": "code",
   "execution_count": 3,
   "metadata": {},
   "outputs": [],
   "source": [
    "from running import format_input_for_model, reformat_output_from_model, reformat_output_from_decoder\n",
    "import torch.nn.functional as F"
   ]
  },
  {
   "cell_type": "code",
   "execution_count": 4,
   "metadata": {},
   "outputs": [],
   "source": [
    "for trajectories in train_loader:\n",
    "    encoder_inputs = process_trajectory(trajectories)  # (B, T, H, W, Q)\n",
    "    encoder_outputs = encoder(encoder_inputs)  # (B, T, H', W', Q')\n",
    "    model_inputs = format_input_for_model(encoder_outputs)  # (B, T*H'*W', P+Q')\n",
    "    model_outputs = model(model_inputs)  # (B, T*H'*W', P+Q')\n",
    "    decoder_inputs = reformat_output_from_model(model_outputs, encoder_outputs)  # (B, T, H'*W'*Q')\n",
    "    decoder_outputs = decoder(decoder_inputs)  # (B, T, H, W, Q)\n",
    "    outputs = reformat_output_from_decoder(decoder_outputs, trajectories)"
   ]
  },
  {
   "cell_type": "code",
   "execution_count": null,
   "metadata": {},
   "outputs": [],
   "source": [
    "outputs.shape, trajectories.shape"
   ]
  },
  {
   "cell_type": "code",
   "execution_count": null,
   "metadata": {},
   "outputs": [],
   "source": []
  }
 ],
 "metadata": {
  "kernelspec": {
   "display_name": "twin",
   "language": "python",
   "name": "python3"
  },
  "language_info": {
   "codemirror_mode": {
    "name": "ipython",
    "version": 3
   },
   "file_extension": ".py",
   "mimetype": "text/x-python",
   "name": "python",
   "nbconvert_exporter": "python",
   "pygments_lexer": "ipython3",
   "version": "3.12.11"
  }
 },
 "nbformat": 4,
 "nbformat_minor": 2
}
