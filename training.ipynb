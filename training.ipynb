{
 "cells": [
  {
   "cell_type": "code",
   "execution_count": 1,
   "metadata": {},
   "outputs": [
    {
     "name": "stderr",
     "output_type": "stream",
     "text": [
      "/home/ubuntu/miniconda3/envs/twin/lib/python3.12/site-packages/torch/nn/modules/transformer.py:379: UserWarning: enable_nested_tensor is True, but self.use_nested_tensor is False because encoder_layer.self_attn.batch_first was not True(use batch_first for better inference performance)\n",
      "  warnings.warn(\n"
     ]
    },
    {
     "name": "stdout",
     "output_type": "stream",
     "text": [
      "Using device: cuda\n"
     ]
    }
   ],
   "source": [
    "import torch\n",
    "import torch.nn as nn\n",
    "import architectures as arch\n",
    "from functools import partial\n",
    "import argparse\n",
    "from pathlib import Path\n",
    "from torchvision.ops import MLP\n",
    "from running import make_positional_encoding, train_one_epoch, evaluate\n",
    "from data import load_navier_stokes_tensor, setup_dataloaders\n",
    "from architectures import SingleConvNeuralNet\n",
    "\n",
    "\n",
    "parser = argparse.ArgumentParser(description=\"Navier–Stokes training script (core logic excerpt).\")\n",
    "parser.add_argument(\"--data\", type=Path, default=Path(\"../anie/ns_viscosity_data_large/ns_data_visc_8e-4.mat\"), help=\"Path to the .mat dataset produced by the FNO codebase.\")\n",
    "parser.add_argument(\"--epochs\", type=int, default=10)\n",
    "parser.add_argument(\"--batch-size\", type=int, default=8)\n",
    "parser.add_argument(\"--lr\", type=float, default=1e-3)\n",
    "parser.add_argument(\"--weight-decay\", type=float, default=1e-4, help=\"Weight decay (L2 penalty) for Adam optimizer.\")\n",
    "parser.add_argument(\"--time-points\", type=int, default=11, help=\"Number of temporal frames to sample from the raw data (consistent with notebook).\")\n",
    "\n",
    "parser.add_argument(\"--share\", action=\"store_true\", help=\"Share weights between modules.\")\n",
    "parser.add_argument(\"--no-share\", dest=\"share\", action=\"store_false\", help=\"Don't share weights between modules.\")\n",
    "parser.set_defaults(share=True)\n",
    "\n",
    "parser.add_argument(\"--refinement\", action=\"store_true\", help=\"Use refinement.\")\n",
    "parser.add_argument(\"--no-refinement\", dest=\"refinement\", action=\"store_false\", help=\"Don't use refinement.\")\n",
    "parser.set_defaults(refinement=True)\n",
    "\n",
    "parser.add_argument(\"--picard\", action=\"store_true\", help=\"Use Picard iterations.\")\n",
    "parser.add_argument(\"--no-picard\", dest=\"picard\", action=\"store_false\", help=\"Don't use Picard iterations.\")\n",
    "parser.set_defaults(picard=True)\n",
    "\n",
    "parser.add_argument(\"--d_model\", type=int, default=64)\n",
    "parser.add_argument(\"--nhead\", type=int, default=4)\n",
    "parser.add_argument(\"--dim_feedforward\", type=int, default=64)\n",
    "parser.add_argument(\"--dropout\", type=float, default=0.1)\n",
    "parser.add_argument(\"--n_layers\", type=int, default=4)\n",
    "parser.add_argument(\"--n_modules\", type=int, default=1)\n",
    "parser.add_argument(\"--q\", type=int, default=1)\n",
    "parser.add_argument(\"--r\", type=float, default=0.5)\n",
    "\n",
    "args = parser.parse_args(\"\")\n",
    "\n",
    "if args.refinement:\n",
    "    make_module = partial(arch.AcausalTransformer,\n",
    "                    d_model=args.d_model,\n",
    "                    nhead=args.nhead,\n",
    "                    dim_feedforward=args.dim_feedforward,\n",
    "                    dropout=args.dropout,\n",
    "                    n_layers=args.n_layers)\n",
    "    process_trajectory = arch.broadcast_initial_conditions\n",
    "else:\n",
    "    make_module = partial(arch.CausalTransformer,\n",
    "                    d_model=args.d_model,\n",
    "                    nhead=args.nhead,\n",
    "                    dim_feedforward=args.dim_feedforward,\n",
    "                    dropout=args.dropout,\n",
    "                    n_layers=args.n_layers)\n",
    "    process_trajectory = arch.Identity\n",
    "if args.share:\n",
    "    modules = arch.make_weight_shared_modules(make_module, n_modules=args.n_modules)\n",
    "else:\n",
    "    modules = arch.make_weight_unshared_modules(make_module, n_modules=args.n_modules)\n",
    "if args.picard:\n",
    "    model = arch.PicardIterations(modules, q=args.q, r=args.r)\n",
    "else:\n",
    "    model = arch.ArbitraryIterations(modules)\n",
    "\n",
    "device = torch.device(\"cuda\" if torch.cuda.is_available() else \"cpu\")\n",
    "print(f\"Using device: {device}\")\n",
    "model = model.to(device)\n",
    "\n",
    "tensor = load_navier_stokes_tensor(args.data, time_points=args.time_points)"
   ]
  },
  {
   "cell_type": "code",
   "execution_count": 2,
   "metadata": {},
   "outputs": [
    {
     "name": "stdout",
     "output_type": "stream",
     "text": [
      "Epoch   1 | train loss: 0.323091 | val loss: 0.137176\n",
      "Epoch   2 | train loss: 0.120290 | val loss: 0.108359\n",
      "Epoch   3 | train loss: 0.098632 | val loss: 0.091244\n",
      "Epoch   4 | train loss: 0.086226 | val loss: 0.083542\n",
      "Epoch   5 | train loss: 0.078092 | val loss: 0.079151\n",
      "Epoch   6 | train loss: 0.072348 | val loss: 0.074000\n",
      "Epoch   7 | train loss: 0.067465 | val loss: 0.071946\n",
      "Epoch   8 | train loss: 0.063301 | val loss: 0.066403\n",
      "Epoch   9 | train loss: 0.060048 | val loss: 0.064498\n",
      "Epoch  10 | train loss: 0.057972 | val loss: 0.063673\n"
     ]
    }
   ],
   "source": [
    "tensor = tensor.to(device)\n",
    "train_loader, val_loader = setup_dataloaders(tensor, batch_size=args.batch_size)\n",
    "\n",
    "P = 3\n",
    "N, T, H, W, Q = tensor.shape\n",
    "encoder = SingleConvNeuralNet(dim=Q,\n",
    "                                hidden_dim=args.d_model-P,\n",
    "                                out_dim=args.d_model-P,\n",
    "                                hidden_ff=128,\n",
    "                                K=[4,4],\n",
    "                                S=[4,4])\n",
    "encoder = encoder.to(device)\n",
    "\n",
    "# Dummy forward pass to get shapes\n",
    "with torch.no_grad():\n",
    "    _, _, H_prime, W_prime, _ = encoder.forward(tensor[0, None, ...].to(device)).shape\n",
    "\n",
    "decoder = MLP(\n",
    "    in_channels=H_prime*W_prime*(args.d_model-P),\n",
    "    hidden_channels=[64, 256, H*W],\n",
    "    activation_layer=nn.ELU,\n",
    ")\n",
    "\n",
    "positional_encodings = make_positional_encoding(T, H_prime, W_prime, device=device)\n",
    "positional_encodings = positional_encodings[None,...].repeat(args.batch_size,1,1,1,1)\n",
    "\n",
    "decoder = decoder.to(device)\n",
    "\n",
    "optim = torch.optim.Adam(\n",
    "    list(model.parameters()) + list(encoder.parameters()) + list(decoder.parameters()), lr=args.lr, weight_decay=args.weight_decay\n",
    ")\n",
    "scheduler = torch.optim.lr_scheduler.CosineAnnealingLR(optim, T_max=args.epochs)\n",
    "\n",
    "for epoch in range(1, args.epochs + 1):\n",
    "    train_loss = train_one_epoch(model,\n",
    "                                 encoder,\n",
    "                                 decoder,\n",
    "                                 process_trajectory,\n",
    "                                 train_loader,\n",
    "                                 optim,\n",
    "                                 positional_encodings)\n",
    "    val_loss = evaluate(model,\n",
    "                        encoder,\n",
    "                        decoder,\n",
    "                        process_trajectory,\n",
    "                        val_loader,\n",
    "                        positional_encodings)\n",
    "    scheduler.step()\n",
    "    print(f\"Epoch {epoch:3d} | train loss: {train_loss:.6f} | val loss: {val_loss:.6f}\")\n",
    "\n",
    "torch.save({\"state_dict\": model.state_dict()}, Path(\"tmpweights.pt\"))"
   ]
  },
  {
   "cell_type": "code",
   "execution_count": 3,
   "metadata": {},
   "outputs": [],
   "source": [
    "from running import format_input_for_model, reformat_output_from_model, reformat_output_from_decoder\n",
    "import torch.nn.functional as F"
   ]
  },
  {
   "cell_type": "code",
   "execution_count": 4,
   "metadata": {},
   "outputs": [],
   "source": [
    "for trajectories in train_loader:\n",
    "    encoder_inputs = process_trajectory(trajectories)  # (B, T, H, W, Q)\n",
    "    encoder_outputs = encoder(encoder_inputs)  # (B, T, H', W', Q')\n",
    "    model_inputs = format_input_for_model(encoder_outputs, positional_encodings)  # (B, T*H'*W', P+Q')\n",
    "    model_outputs = model(model_inputs)  # (B, T*H'*W', P+Q')\n",
    "    decoder_inputs = reformat_output_from_model(model_outputs, encoder_outputs)  # (B, T, H'*W'*Q')\n",
    "    decoder_outputs = decoder(decoder_inputs)  # (B, T, H, W, Q)\n",
    "    outputs = reformat_output_from_decoder(decoder_outputs, trajectories)"
   ]
  },
  {
   "cell_type": "code",
   "execution_count": 5,
   "metadata": {},
   "outputs": [
    {
     "data": {
      "text/plain": [
       "(torch.Size([8, 11, 64, 64, 1]), torch.Size([8, 11, 64, 64, 1]))"
      ]
     },
     "execution_count": 5,
     "metadata": {},
     "output_type": "execute_result"
    }
   ],
   "source": [
    "outputs.shape, trajectories.shape"
   ]
  },
  {
   "cell_type": "code",
   "execution_count": 6,
   "metadata": {},
   "outputs": [
    {
     "data": {
      "text/plain": [
       "tensor([[[-0.4313],\n",
       "         [-0.4721],\n",
       "         [-0.5008],\n",
       "         ...,\n",
       "         [-0.2531],\n",
       "         [-0.3033],\n",
       "         [-0.3696]],\n",
       "\n",
       "        [[-0.4638],\n",
       "         [-0.5088],\n",
       "         [-0.5317],\n",
       "         ...,\n",
       "         [-0.3009],\n",
       "         [-0.3443],\n",
       "         [-0.4117]],\n",
       "\n",
       "        [[-0.4784],\n",
       "         [-0.5163],\n",
       "         [-0.5381],\n",
       "         ...,\n",
       "         [-0.3640],\n",
       "         [-0.3922],\n",
       "         [-0.4323]],\n",
       "\n",
       "        ...,\n",
       "\n",
       "        [[-0.2985],\n",
       "         [-0.3426],\n",
       "         [-0.3830],\n",
       "         ...,\n",
       "         [-0.1068],\n",
       "         [-0.1771],\n",
       "         [-0.2381]],\n",
       "\n",
       "        [[-0.3529],\n",
       "         [-0.3886],\n",
       "         [-0.4325],\n",
       "         ...,\n",
       "         [-0.1600],\n",
       "         [-0.2278],\n",
       "         [-0.2926]],\n",
       "\n",
       "        [[-0.3873],\n",
       "         [-0.4280],\n",
       "         [-0.4671],\n",
       "         ...,\n",
       "         [-0.2007],\n",
       "         [-0.2607],\n",
       "         [-0.3224]]], device='cuda:0')"
      ]
     },
     "execution_count": 6,
     "metadata": {},
     "output_type": "execute_result"
    }
   ],
   "source": [
    "train_loader.dataset.dataset.data[0, 0] - train_loader.dataset.dataset.data[0, 1]"
   ]
  },
  {
   "cell_type": "code",
   "execution_count": null,
   "metadata": {},
   "outputs": [],
   "source": []
  }
 ],
 "metadata": {
  "kernelspec": {
   "display_name": "twin",
   "language": "python",
   "name": "python3"
  },
  "language_info": {
   "codemirror_mode": {
    "name": "ipython",
    "version": 3
   },
   "file_extension": ".py",
   "mimetype": "text/x-python",
   "name": "python",
   "nbconvert_exporter": "python",
   "pygments_lexer": "ipython3",
   "version": "3.12.11"
  }
 },
 "nbformat": 4,
 "nbformat_minor": 2
}
